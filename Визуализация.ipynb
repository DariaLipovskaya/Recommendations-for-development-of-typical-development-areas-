{
  "nbformat": 4,
  "nbformat_minor": 0,
  "metadata": {
    "colab": {
      "provenance": [],
      "toc_visible": true
    },
    "kernelspec": {
      "name": "python3",
      "display_name": "Python 3"
    },
    "language_info": {
      "name": "python"
    }
  },
  "cells": [
    {
      "cell_type": "code",
      "execution_count": null,
      "metadata": {
        "id": "KjDGHdRS_qMd"
      },
      "outputs": [],
      "source": [
        "import geopandas as gpd"
      ]
    },
    {
      "cell_type": "code",
      "source": [
        "import folium"
      ],
      "metadata": {
        "id": "9_B8bETmG5Fz"
      },
      "execution_count": null,
      "outputs": []
    },
    {
      "cell_type": "code",
      "source": [
        "# Загружаем данные из файлов .geojson\n",
        "gdf_apartments = gpd.read_file('apartments.geojson')\n",
        "gdf_parks = gpd.read_file('park.geojson')\n",
        "gdf_pitch = gpd.read_file('pitch.geojson')\n",
        "gdf_kindergarten = gpd.read_file('kindergarten.geojson')\n",
        "gdf_school = gpd.read_file('school.geojson')\n",
        "gdf_hospital = gpd.read_file('hospital.geojson')\n",
        "gdf_supermarket = gpd.read_file('supermarket.geojson')"
      ],
      "metadata": {
        "id": "ko_SzbENBo0m"
      },
      "execution_count": null,
      "outputs": []
    },
    {
      "cell_type": "code",
      "source": [
        "# Присваиваем вес \"1\" или \"0\" в зависимости от года постройки\n",
        "gdf_apartments['year_weight'] = gdf_apartments['year_built'].apply(lambda x: 1 if x > 1975 else 0)"
      ],
      "metadata": {
        "id": "Fh3vi7M7CbHl"
      },
      "execution_count": null,
      "outputs": []
    },
    {
      "cell_type": "code",
      "source": [
        "# Присваиваем вес \"1\" или \"0\" в зависимости от проведения капитального ремонта\n",
        "gdf_apartments['major_weight'] = gdf_apartments['major_overhaul'].apply(lambda x: 1 if x == 1 else 0)"
      ],
      "metadata": {
        "id": "oDqUREyct8Ew"
      },
      "execution_count": null,
      "outputs": []
    },
    {
      "cell_type": "code",
      "source": [
        "# Создаем буфер вокруг парков с радиусом 1.5 км\n",
        "gdf_parks['geometry'] = gdf_parks.geometry.buffer(1500)\n",
        "# Проверяем, попадает ли парк в буфер доступности\n",
        "gdf_apartments['park_in_buffer'] = gdf_apartments.geometry.apply(lambda x: 1 if gdf_parks.geometry.intersects(x).any() else 0)"
      ],
      "metadata": {
        "collapsed": true,
        "id": "yQb0r5PdChIV",
        "colab": {
          "base_uri": "https://localhost:8080/"
        },
        "outputId": "32de1b97-11b0-4424-ee71-ac3739223c86"
      },
      "execution_count": null,
      "outputs": [
        {
          "output_type": "stream",
          "name": "stderr",
          "text": [
            "<ipython-input-35-a1dc1b56c5c8>:2: UserWarning: Geometry is in a geographic CRS. Results from 'buffer' are likely incorrect. Use 'GeoSeries.to_crs()' to re-project geometries to a projected CRS before this operation.\n",
            "\n",
            "  gdf_parks['geometry'] = gdf_parks.geometry.buffer(1500)\n"
          ]
        }
      ]
    },
    {
      "cell_type": "code",
      "source": [
        "# Проверяем площадь полигонов в pitch.geojson\n",
        "total_area_pitch = gdf_pitch.geometry.area.sum()\n",
        "if total_area_pitch >= 0.1 * 100000:  # 10% от 10 га\n",
        "    gdf_pitch['area_weight'] = 1\n",
        "else:\n",
        "    gdf_pitch['area_weight'] = 0"
      ],
      "metadata": {
        "collapsed": true,
        "id": "1pH8x5ebCn_U",
        "colab": {
          "base_uri": "https://localhost:8080/"
        },
        "outputId": "7e642ff6-562b-4379-dc52-ce363e81d0f4"
      },
      "execution_count": null,
      "outputs": [
        {
          "output_type": "stream",
          "name": "stderr",
          "text": [
            "<ipython-input-36-33bf43bacc13>:2: UserWarning: Geometry is in a geographic CRS. Results from 'area' are likely incorrect. Use 'GeoSeries.to_crs()' to re-project geometries to a projected CRS before this operation.\n",
            "\n",
            "  total_area_pitch = gdf_pitch.geometry.area.sum()\n"
          ]
        }
      ]
    },
    {
      "cell_type": "code",
      "source": [
        "# Проверяем доступность детского сада в радиусе 300 м\n",
        "gdf_apartments['kindergarten_in_buffer'] = gdf_apartments.geometry.apply(lambda x: 1\n",
        "if gdf_kindergarten.geometry.intersects(x.buffer(300)).any() else 0)"
      ],
      "metadata": {
        "id": "vk_6ts6eC-lh"
      },
      "execution_count": null,
      "outputs": []
    },
    {
      "cell_type": "code",
      "source": [
        "# Проверяем доступность школы в радиусе 750 м\n",
        "gdf_apartments['school_in_buffer'] = gdf_apartments.geometry.apply(lambda x: 1\n",
        "if gdf_school.geometry.intersects(x.buffer(750)).any() else 0)"
      ],
      "metadata": {
        "id": "IznKi-H3C-jX"
      },
      "execution_count": null,
      "outputs": []
    },
    {
      "cell_type": "code",
      "source": [
        "# Проверяем доступность поликлиники в радиусе 1000 м\n",
        "gdf_apartments['hospital_in_buffer'] = gdf_apartments.geometry.apply(lambda x: 1\n",
        "if gdf_hospital.geometry.intersects(x.buffer(1000)).any() else 0)"
      ],
      "metadata": {
        "id": "tWTKCE6HDEKn"
      },
      "execution_count": null,
      "outputs": []
    },
    {
      "cell_type": "code",
      "source": [
        "# Проверяем доступность сервисов в радиусе 500 м\n",
        "gdf_apartments['supermarket_in_buffer'] = gdf_apartments.geometry.apply(lambda x: 1\n",
        "if gdf_supermarket.geometry.intersects(x.buffer(500)).any() else 0)"
      ],
      "metadata": {
        "id": "9-N8BzA3DHX6"
      },
      "execution_count": null,
      "outputs": []
    },
    {
      "cell_type": "code",
      "source": [
        "# Присваиваем вес за выполнение нематериальных ценностей\n",
        "gdf_apartments['intangible_weight'] = 0"
      ],
      "metadata": {
        "id": "BQ7dKOxdDHS0"
      },
      "execution_count": null,
      "outputs": []
    },
    {
      "cell_type": "code",
      "source": [
        "# Считаем итоговый балл для каждого здания\n",
        "gdf_apartments['total_score'] = (gdf_apartments['year_weight'] +\n",
        "                                  gdf_apartments['park_in_buffer'] +\n",
        "                                  gdf_apartments['kindergarten_in_buffer'] +\n",
        "                                  gdf_apartments['school_in_buffer'] +\n",
        "                                  gdf_apartments['hospital_in_buffer'] +\n",
        "                                  gdf_apartments['supermarket_in_buffer'] +\n",
        "                                  gdf_apartments['intangible_weight'])"
      ],
      "metadata": {
        "id": "F7D1w5pCDEIL"
      },
      "execution_count": null,
      "outputs": []
    },
    {
      "cell_type": "code",
      "source": [
        "# Выводим сводную таблицу баллов\n",
        "summary_table = gdf_apartments[['full_id', 'year_built', 'total_score']]\n",
        "print(summary_table)"
      ],
      "metadata": {
        "colab": {
          "base_uri": "https://localhost:8080/"
        },
        "id": "vzcd0ZEMDR4V",
        "outputId": "10f10e7e-0aac-47f8-e159-ef4ddb2d0723"
      },
      "execution_count": null,
      "outputs": [
        {
          "output_type": "stream",
          "name": "stdout",
          "text": [
            "      full_id  year_built  total_score\n",
            "0   w30701909        1961            5\n",
            "1   w30701908        1960            5\n",
            "2   w30701907        1962            5\n",
            "3   w30701906        1960            5\n",
            "4   w30738412        1962            5\n",
            "..        ...         ...          ...\n",
            "57  w30701895        1960            5\n",
            "58  w30701913        1960            5\n",
            "59  w30701912        1962            5\n",
            "60  w30701911        1962            5\n",
            "61  w30701910        1960            5\n",
            "\n",
            "[62 rows x 3 columns]\n"
          ]
        }
      ]
    },
    {
      "cell_type": "code",
      "source": [
        "map_center = [59.9343, 30.3351]  # Координаты СПб\n",
        "m = folium.Map(location=map_center, zoom_start=14)"
      ],
      "metadata": {
        "id": "WQkd7E2NG_mi"
      },
      "execution_count": null,
      "outputs": []
    },
    {
      "cell_type": "code",
      "source": [
        "# Добавляем здания на карту\n",
        "for _, row in gdf_apartments.iterrows():\n",
        "    color = 'red' if row['total_score'] < 5 else 'blue' if row['total_score'] <= 7 else 'green'\n",
        "\n",
        "    folium.GeoJson(\n",
        "        row['geometry'],\n",
        "        style_function=lambda x, color=color: {\n",
        "            'fillColor': color,\n",
        "            'color': color,\n",
        "            'weight': 1,\n",
        "            'fillOpacity': 0.6,\n",
        "        },\n",
        "        tooltip=folium.Tooltip(f\"ID: {row['full_id']}, Год постройки: {row['year_built']}, Общий балл: {row['total_score']}\")\n",
        "    ).add_to(m)\n"
      ],
      "metadata": {
        "id": "MnZhCstqsRqe"
      },
      "execution_count": null,
      "outputs": []
    },
    {
      "cell_type": "code",
      "source": [
        "m.save('map.html')"
      ],
      "metadata": {
        "id": "ZkJ6VUjfsRlK"
      },
      "execution_count": null,
      "outputs": []
    }
  ]
}